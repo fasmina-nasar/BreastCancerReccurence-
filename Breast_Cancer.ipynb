{
  "nbformat": 4,
  "nbformat_minor": 0,
  "metadata": {
    "colab": {
      "name": "Breast Cancer.ipynb",
      "provenance": [],
      "mount_file_id": "1vq574RXPkF_QVnxaNmQkdG5qQLZaihVI",
      "authorship_tag": "ABX9TyMNcCD8X5bS1uLAPrdqAS24",
      "include_colab_link": true
    },
    "kernelspec": {
      "name": "python3",
      "display_name": "Python 3"
    },
    "language_info": {
      "name": "python"
    }
  },
  "cells": [
    {
      "cell_type": "markdown",
      "metadata": {
        "id": "view-in-github",
        "colab_type": "text"
      },
      "source": [
        "<a href=\"https://colab.research.google.com/github/fasmina-nasar/BreastCancerReccurence-/blob/main/Breast_Cancer.ipynb\" target=\"_parent\"><img src=\"https://colab.research.google.com/assets/colab-badge.svg\" alt=\"Open In Colab\"/></a>"
      ]
    },
    {
      "cell_type": "markdown",
      "source": [
        "Importing the dependencies"
      ],
      "metadata": {
        "id": "w5xFjcrS8tEz"
      }
    },
    {
      "cell_type": "code",
      "execution_count": null,
      "metadata": {
        "id": "4LxAFKH75X0-"
      },
      "outputs": [],
      "source": [
        "from tensorflow.keras.models import Sequential\n",
        "from tensorflow.keras.layers import Dense,Dropout\n",
        "from tensorflow.keras.optimizers import SGD,Adam\n",
        "\n",
        "import pandas as pd\n",
        "import numpy as np\n",
        "import matplotlib.pyplot as plt\n",
        "import seaborn as sns\n",
        "from sklearn.model_selection import train_test_split\n",
        "from sklearn.preprocessing import LabelEncoder\n",
        "from sklearn.impute import SimpleImputer\n",
        "from sklearn.metrics import classification_report,confusion_matrix"
      ]
    },
    {
      "cell_type": "markdown",
      "source": [
        "Read Dataset"
      ],
      "metadata": {
        "id": "9CT4LtuV8w-g"
      }
    },
    {
      "cell_type": "code",
      "source": [
        "data=pd.read_csv('/content/drive/MyDrive/Datasets(deep learning)/breast-cancer.csv')\n",
        "data.head()"
      ],
      "metadata": {
        "colab": {
          "base_uri": "https://localhost:8080/",
          "height": 204
        },
        "id": "LwoE8oj48hPX",
        "outputId": "bbc82907-751d-4477-fcc0-5300b1f43c1c"
      },
      "execution_count": null,
      "outputs": [
        {
          "output_type": "execute_result",
          "data": {
            "text/plain": [
              "                  Class    Age  Menopause  ... Breast Breast-quad Irradiat\n",
              "0  no-recurrence-events  30-39    premeno  ...   left    left_low       no\n",
              "1  no-recurrence-events  40-49    premeno  ...  right    right_up       no\n",
              "2  no-recurrence-events  40-49    premeno  ...   left    left_low       no\n",
              "3  no-recurrence-events  60-69       ge40  ...  right     left_up       no\n",
              "4  no-recurrence-events  40-49    premeno  ...  right   right_low       no\n",
              "\n",
              "[5 rows x 10 columns]"
            ],
            "text/html": [
              "\n",
              "  <div id=\"df-8e03ab08-b313-413a-9bc0-c40664a4ff77\">\n",
              "    <div class=\"colab-df-container\">\n",
              "      <div>\n",
              "<style scoped>\n",
              "    .dataframe tbody tr th:only-of-type {\n",
              "        vertical-align: middle;\n",
              "    }\n",
              "\n",
              "    .dataframe tbody tr th {\n",
              "        vertical-align: top;\n",
              "    }\n",
              "\n",
              "    .dataframe thead th {\n",
              "        text-align: right;\n",
              "    }\n",
              "</style>\n",
              "<table border=\"1\" class=\"dataframe\">\n",
              "  <thead>\n",
              "    <tr style=\"text-align: right;\">\n",
              "      <th></th>\n",
              "      <th>Class</th>\n",
              "      <th>Age</th>\n",
              "      <th>Menopause</th>\n",
              "      <th>Tumor-size</th>\n",
              "      <th>Inv-nodes</th>\n",
              "      <th>Node-caps</th>\n",
              "      <th>deg-malig</th>\n",
              "      <th>Breast</th>\n",
              "      <th>Breast-quad</th>\n",
              "      <th>Irradiat</th>\n",
              "    </tr>\n",
              "  </thead>\n",
              "  <tbody>\n",
              "    <tr>\n",
              "      <th>0</th>\n",
              "      <td>no-recurrence-events</td>\n",
              "      <td>30-39</td>\n",
              "      <td>premeno</td>\n",
              "      <td>30-34</td>\n",
              "      <td>0-2</td>\n",
              "      <td>no</td>\n",
              "      <td>3</td>\n",
              "      <td>left</td>\n",
              "      <td>left_low</td>\n",
              "      <td>no</td>\n",
              "    </tr>\n",
              "    <tr>\n",
              "      <th>1</th>\n",
              "      <td>no-recurrence-events</td>\n",
              "      <td>40-49</td>\n",
              "      <td>premeno</td>\n",
              "      <td>20-24</td>\n",
              "      <td>0-2</td>\n",
              "      <td>no</td>\n",
              "      <td>2</td>\n",
              "      <td>right</td>\n",
              "      <td>right_up</td>\n",
              "      <td>no</td>\n",
              "    </tr>\n",
              "    <tr>\n",
              "      <th>2</th>\n",
              "      <td>no-recurrence-events</td>\n",
              "      <td>40-49</td>\n",
              "      <td>premeno</td>\n",
              "      <td>20-24</td>\n",
              "      <td>0-2</td>\n",
              "      <td>no</td>\n",
              "      <td>2</td>\n",
              "      <td>left</td>\n",
              "      <td>left_low</td>\n",
              "      <td>no</td>\n",
              "    </tr>\n",
              "    <tr>\n",
              "      <th>3</th>\n",
              "      <td>no-recurrence-events</td>\n",
              "      <td>60-69</td>\n",
              "      <td>ge40</td>\n",
              "      <td>15-19</td>\n",
              "      <td>0-2</td>\n",
              "      <td>no</td>\n",
              "      <td>2</td>\n",
              "      <td>right</td>\n",
              "      <td>left_up</td>\n",
              "      <td>no</td>\n",
              "    </tr>\n",
              "    <tr>\n",
              "      <th>4</th>\n",
              "      <td>no-recurrence-events</td>\n",
              "      <td>40-49</td>\n",
              "      <td>premeno</td>\n",
              "      <td>0-4</td>\n",
              "      <td>0-2</td>\n",
              "      <td>no</td>\n",
              "      <td>2</td>\n",
              "      <td>right</td>\n",
              "      <td>right_low</td>\n",
              "      <td>no</td>\n",
              "    </tr>\n",
              "  </tbody>\n",
              "</table>\n",
              "</div>\n",
              "      <button class=\"colab-df-convert\" onclick=\"convertToInteractive('df-8e03ab08-b313-413a-9bc0-c40664a4ff77')\"\n",
              "              title=\"Convert this dataframe to an interactive table.\"\n",
              "              style=\"display:none;\">\n",
              "        \n",
              "  <svg xmlns=\"http://www.w3.org/2000/svg\" height=\"24px\"viewBox=\"0 0 24 24\"\n",
              "       width=\"24px\">\n",
              "    <path d=\"M0 0h24v24H0V0z\" fill=\"none\"/>\n",
              "    <path d=\"M18.56 5.44l.94 2.06.94-2.06 2.06-.94-2.06-.94-.94-2.06-.94 2.06-2.06.94zm-11 1L8.5 8.5l.94-2.06 2.06-.94-2.06-.94L8.5 2.5l-.94 2.06-2.06.94zm10 10l.94 2.06.94-2.06 2.06-.94-2.06-.94-.94-2.06-.94 2.06-2.06.94z\"/><path d=\"M17.41 7.96l-1.37-1.37c-.4-.4-.92-.59-1.43-.59-.52 0-1.04.2-1.43.59L10.3 9.45l-7.72 7.72c-.78.78-.78 2.05 0 2.83L4 21.41c.39.39.9.59 1.41.59.51 0 1.02-.2 1.41-.59l7.78-7.78 2.81-2.81c.8-.78.8-2.07 0-2.86zM5.41 20L4 18.59l7.72-7.72 1.47 1.35L5.41 20z\"/>\n",
              "  </svg>\n",
              "      </button>\n",
              "      \n",
              "  <style>\n",
              "    .colab-df-container {\n",
              "      display:flex;\n",
              "      flex-wrap:wrap;\n",
              "      gap: 12px;\n",
              "    }\n",
              "\n",
              "    .colab-df-convert {\n",
              "      background-color: #E8F0FE;\n",
              "      border: none;\n",
              "      border-radius: 50%;\n",
              "      cursor: pointer;\n",
              "      display: none;\n",
              "      fill: #1967D2;\n",
              "      height: 32px;\n",
              "      padding: 0 0 0 0;\n",
              "      width: 32px;\n",
              "    }\n",
              "\n",
              "    .colab-df-convert:hover {\n",
              "      background-color: #E2EBFA;\n",
              "      box-shadow: 0px 1px 2px rgba(60, 64, 67, 0.3), 0px 1px 3px 1px rgba(60, 64, 67, 0.15);\n",
              "      fill: #174EA6;\n",
              "    }\n",
              "\n",
              "    [theme=dark] .colab-df-convert {\n",
              "      background-color: #3B4455;\n",
              "      fill: #D2E3FC;\n",
              "    }\n",
              "\n",
              "    [theme=dark] .colab-df-convert:hover {\n",
              "      background-color: #434B5C;\n",
              "      box-shadow: 0px 1px 3px 1px rgba(0, 0, 0, 0.15);\n",
              "      filter: drop-shadow(0px 1px 2px rgba(0, 0, 0, 0.3));\n",
              "      fill: #FFFFFF;\n",
              "    }\n",
              "  </style>\n",
              "\n",
              "      <script>\n",
              "        const buttonEl =\n",
              "          document.querySelector('#df-8e03ab08-b313-413a-9bc0-c40664a4ff77 button.colab-df-convert');\n",
              "        buttonEl.style.display =\n",
              "          google.colab.kernel.accessAllowed ? 'block' : 'none';\n",
              "\n",
              "        async function convertToInteractive(key) {\n",
              "          const element = document.querySelector('#df-8e03ab08-b313-413a-9bc0-c40664a4ff77');\n",
              "          const dataTable =\n",
              "            await google.colab.kernel.invokeFunction('convertToInteractive',\n",
              "                                                     [key], {});\n",
              "          if (!dataTable) return;\n",
              "\n",
              "          const docLinkHtml = 'Like what you see? Visit the ' +\n",
              "            '<a target=\"_blank\" href=https://colab.research.google.com/notebooks/data_table.ipynb>data table notebook</a>'\n",
              "            + ' to learn more about interactive tables.';\n",
              "          element.innerHTML = '';\n",
              "          dataTable['output_type'] = 'display_data';\n",
              "          await google.colab.output.renderOutput(dataTable, element);\n",
              "          const docLink = document.createElement('div');\n",
              "          docLink.innerHTML = docLinkHtml;\n",
              "          element.appendChild(docLink);\n",
              "        }\n",
              "      </script>\n",
              "    </div>\n",
              "  </div>\n",
              "  "
            ]
          },
          "metadata": {},
          "execution_count": 34
        }
      ]
    },
    {
      "cell_type": "markdown",
      "source": [
        "Shuffling Dataset"
      ],
      "metadata": {
        "id": "TGHglfdP9OnL"
      }
    },
    {
      "cell_type": "code",
      "source": [
        "data=data.sample(frac=1,random_state=10)"
      ],
      "metadata": {
        "id": "CN2cAnQ48qBy"
      },
      "execution_count": null,
      "outputs": []
    },
    {
      "cell_type": "code",
      "source": [
        "data"
      ],
      "metadata": {
        "colab": {
          "base_uri": "https://localhost:8080/",
          "height": 419
        },
        "id": "dvSXhKVc8_cI",
        "outputId": "03b3a3af-0f27-44d5-b498-6e3e2b0e2777"
      },
      "execution_count": null,
      "outputs": [
        {
          "output_type": "execute_result",
          "data": {
            "text/plain": [
              "                    Class    Age  Menopause  ... Breast Breast-quad Irradiat\n",
              "121  no-recurrence-events  50-59       ge40  ...  right    right_up       no\n",
              "268     recurrence-events  30-39    premeno  ...   left    left_low       no\n",
              "61   no-recurrence-events  40-49    premeno  ...  right   right_low       no\n",
              "131  no-recurrence-events  40-49    premeno  ...  right     left_up      yes\n",
              "232     recurrence-events  30-39    premeno  ...  right     left_up      yes\n",
              "..                    ...    ...        ...  ...    ...         ...      ...\n",
              "156  no-recurrence-events  50-59       ge40  ...  right     left_up       no\n",
              "123  no-recurrence-events  50-59       ge40  ...  right    left_low       no\n",
              "15   no-recurrence-events  60-69       lt40  ...   left    left_low       no\n",
              "125  no-recurrence-events  70-79       ge40  ...   left     central       no\n",
              "265     recurrence-events  30-39    premeno  ...   left    left_low       no\n",
              "\n",
              "[286 rows x 10 columns]"
            ],
            "text/html": [
              "\n",
              "  <div id=\"df-be3ffc21-f0ce-4e71-80cc-231ae280ce20\">\n",
              "    <div class=\"colab-df-container\">\n",
              "      <div>\n",
              "<style scoped>\n",
              "    .dataframe tbody tr th:only-of-type {\n",
              "        vertical-align: middle;\n",
              "    }\n",
              "\n",
              "    .dataframe tbody tr th {\n",
              "        vertical-align: top;\n",
              "    }\n",
              "\n",
              "    .dataframe thead th {\n",
              "        text-align: right;\n",
              "    }\n",
              "</style>\n",
              "<table border=\"1\" class=\"dataframe\">\n",
              "  <thead>\n",
              "    <tr style=\"text-align: right;\">\n",
              "      <th></th>\n",
              "      <th>Class</th>\n",
              "      <th>Age</th>\n",
              "      <th>Menopause</th>\n",
              "      <th>Tumor-size</th>\n",
              "      <th>Inv-nodes</th>\n",
              "      <th>Node-caps</th>\n",
              "      <th>deg-malig</th>\n",
              "      <th>Breast</th>\n",
              "      <th>Breast-quad</th>\n",
              "      <th>Irradiat</th>\n",
              "    </tr>\n",
              "  </thead>\n",
              "  <tbody>\n",
              "    <tr>\n",
              "      <th>121</th>\n",
              "      <td>no-recurrence-events</td>\n",
              "      <td>50-59</td>\n",
              "      <td>ge40</td>\n",
              "      <td>15-19</td>\n",
              "      <td>0-2</td>\n",
              "      <td>no</td>\n",
              "      <td>2</td>\n",
              "      <td>right</td>\n",
              "      <td>right_up</td>\n",
              "      <td>no</td>\n",
              "    </tr>\n",
              "    <tr>\n",
              "      <th>268</th>\n",
              "      <td>recurrence-events</td>\n",
              "      <td>30-39</td>\n",
              "      <td>premeno</td>\n",
              "      <td>35-39</td>\n",
              "      <td>0-2</td>\n",
              "      <td>no</td>\n",
              "      <td>3</td>\n",
              "      <td>left</td>\n",
              "      <td>left_low</td>\n",
              "      <td>no</td>\n",
              "    </tr>\n",
              "    <tr>\n",
              "      <th>61</th>\n",
              "      <td>no-recurrence-events</td>\n",
              "      <td>40-49</td>\n",
              "      <td>premeno</td>\n",
              "      <td>10-14</td>\n",
              "      <td>0-2</td>\n",
              "      <td>no</td>\n",
              "      <td>1</td>\n",
              "      <td>right</td>\n",
              "      <td>right_low</td>\n",
              "      <td>no</td>\n",
              "    </tr>\n",
              "    <tr>\n",
              "      <th>131</th>\n",
              "      <td>no-recurrence-events</td>\n",
              "      <td>40-49</td>\n",
              "      <td>premeno</td>\n",
              "      <td>40-44</td>\n",
              "      <td>3-5</td>\n",
              "      <td>yes</td>\n",
              "      <td>3</td>\n",
              "      <td>right</td>\n",
              "      <td>left_up</td>\n",
              "      <td>yes</td>\n",
              "    </tr>\n",
              "    <tr>\n",
              "      <th>232</th>\n",
              "      <td>recurrence-events</td>\n",
              "      <td>30-39</td>\n",
              "      <td>premeno</td>\n",
              "      <td>30-34</td>\n",
              "      <td>3-5</td>\n",
              "      <td>no</td>\n",
              "      <td>3</td>\n",
              "      <td>right</td>\n",
              "      <td>left_up</td>\n",
              "      <td>yes</td>\n",
              "    </tr>\n",
              "    <tr>\n",
              "      <th>...</th>\n",
              "      <td>...</td>\n",
              "      <td>...</td>\n",
              "      <td>...</td>\n",
              "      <td>...</td>\n",
              "      <td>...</td>\n",
              "      <td>...</td>\n",
              "      <td>...</td>\n",
              "      <td>...</td>\n",
              "      <td>...</td>\n",
              "      <td>...</td>\n",
              "    </tr>\n",
              "    <tr>\n",
              "      <th>156</th>\n",
              "      <td>no-recurrence-events</td>\n",
              "      <td>50-59</td>\n",
              "      <td>ge40</td>\n",
              "      <td>25-29</td>\n",
              "      <td>3-5</td>\n",
              "      <td>yes</td>\n",
              "      <td>3</td>\n",
              "      <td>right</td>\n",
              "      <td>left_up</td>\n",
              "      <td>no</td>\n",
              "    </tr>\n",
              "    <tr>\n",
              "      <th>123</th>\n",
              "      <td>no-recurrence-events</td>\n",
              "      <td>50-59</td>\n",
              "      <td>ge40</td>\n",
              "      <td>30-34</td>\n",
              "      <td>0-2</td>\n",
              "      <td>no</td>\n",
              "      <td>1</td>\n",
              "      <td>right</td>\n",
              "      <td>left_low</td>\n",
              "      <td>no</td>\n",
              "    </tr>\n",
              "    <tr>\n",
              "      <th>15</th>\n",
              "      <td>no-recurrence-events</td>\n",
              "      <td>60-69</td>\n",
              "      <td>lt40</td>\n",
              "      <td>30-34</td>\n",
              "      <td>0-2</td>\n",
              "      <td>no</td>\n",
              "      <td>1</td>\n",
              "      <td>left</td>\n",
              "      <td>left_low</td>\n",
              "      <td>no</td>\n",
              "    </tr>\n",
              "    <tr>\n",
              "      <th>125</th>\n",
              "      <td>no-recurrence-events</td>\n",
              "      <td>70-79</td>\n",
              "      <td>ge40</td>\n",
              "      <td>10-14</td>\n",
              "      <td>0-2</td>\n",
              "      <td>no</td>\n",
              "      <td>2</td>\n",
              "      <td>left</td>\n",
              "      <td>central</td>\n",
              "      <td>no</td>\n",
              "    </tr>\n",
              "    <tr>\n",
              "      <th>265</th>\n",
              "      <td>recurrence-events</td>\n",
              "      <td>30-39</td>\n",
              "      <td>premeno</td>\n",
              "      <td>35-39</td>\n",
              "      <td>9-11</td>\n",
              "      <td>yes</td>\n",
              "      <td>3</td>\n",
              "      <td>left</td>\n",
              "      <td>left_low</td>\n",
              "      <td>no</td>\n",
              "    </tr>\n",
              "  </tbody>\n",
              "</table>\n",
              "<p>286 rows × 10 columns</p>\n",
              "</div>\n",
              "      <button class=\"colab-df-convert\" onclick=\"convertToInteractive('df-be3ffc21-f0ce-4e71-80cc-231ae280ce20')\"\n",
              "              title=\"Convert this dataframe to an interactive table.\"\n",
              "              style=\"display:none;\">\n",
              "        \n",
              "  <svg xmlns=\"http://www.w3.org/2000/svg\" height=\"24px\"viewBox=\"0 0 24 24\"\n",
              "       width=\"24px\">\n",
              "    <path d=\"M0 0h24v24H0V0z\" fill=\"none\"/>\n",
              "    <path d=\"M18.56 5.44l.94 2.06.94-2.06 2.06-.94-2.06-.94-.94-2.06-.94 2.06-2.06.94zm-11 1L8.5 8.5l.94-2.06 2.06-.94-2.06-.94L8.5 2.5l-.94 2.06-2.06.94zm10 10l.94 2.06.94-2.06 2.06-.94-2.06-.94-.94-2.06-.94 2.06-2.06.94z\"/><path d=\"M17.41 7.96l-1.37-1.37c-.4-.4-.92-.59-1.43-.59-.52 0-1.04.2-1.43.59L10.3 9.45l-7.72 7.72c-.78.78-.78 2.05 0 2.83L4 21.41c.39.39.9.59 1.41.59.51 0 1.02-.2 1.41-.59l7.78-7.78 2.81-2.81c.8-.78.8-2.07 0-2.86zM5.41 20L4 18.59l7.72-7.72 1.47 1.35L5.41 20z\"/>\n",
              "  </svg>\n",
              "      </button>\n",
              "      \n",
              "  <style>\n",
              "    .colab-df-container {\n",
              "      display:flex;\n",
              "      flex-wrap:wrap;\n",
              "      gap: 12px;\n",
              "    }\n",
              "\n",
              "    .colab-df-convert {\n",
              "      background-color: #E8F0FE;\n",
              "      border: none;\n",
              "      border-radius: 50%;\n",
              "      cursor: pointer;\n",
              "      display: none;\n",
              "      fill: #1967D2;\n",
              "      height: 32px;\n",
              "      padding: 0 0 0 0;\n",
              "      width: 32px;\n",
              "    }\n",
              "\n",
              "    .colab-df-convert:hover {\n",
              "      background-color: #E2EBFA;\n",
              "      box-shadow: 0px 1px 2px rgba(60, 64, 67, 0.3), 0px 1px 3px 1px rgba(60, 64, 67, 0.15);\n",
              "      fill: #174EA6;\n",
              "    }\n",
              "\n",
              "    [theme=dark] .colab-df-convert {\n",
              "      background-color: #3B4455;\n",
              "      fill: #D2E3FC;\n",
              "    }\n",
              "\n",
              "    [theme=dark] .colab-df-convert:hover {\n",
              "      background-color: #434B5C;\n",
              "      box-shadow: 0px 1px 3px 1px rgba(0, 0, 0, 0.15);\n",
              "      filter: drop-shadow(0px 1px 2px rgba(0, 0, 0, 0.3));\n",
              "      fill: #FFFFFF;\n",
              "    }\n",
              "  </style>\n",
              "\n",
              "      <script>\n",
              "        const buttonEl =\n",
              "          document.querySelector('#df-be3ffc21-f0ce-4e71-80cc-231ae280ce20 button.colab-df-convert');\n",
              "        buttonEl.style.display =\n",
              "          google.colab.kernel.accessAllowed ? 'block' : 'none';\n",
              "\n",
              "        async function convertToInteractive(key) {\n",
              "          const element = document.querySelector('#df-be3ffc21-f0ce-4e71-80cc-231ae280ce20');\n",
              "          const dataTable =\n",
              "            await google.colab.kernel.invokeFunction('convertToInteractive',\n",
              "                                                     [key], {});\n",
              "          if (!dataTable) return;\n",
              "\n",
              "          const docLinkHtml = 'Like what you see? Visit the ' +\n",
              "            '<a target=\"_blank\" href=https://colab.research.google.com/notebooks/data_table.ipynb>data table notebook</a>'\n",
              "            + ' to learn more about interactive tables.';\n",
              "          element.innerHTML = '';\n",
              "          dataTable['output_type'] = 'display_data';\n",
              "          await google.colab.output.renderOutput(dataTable, element);\n",
              "          const docLink = document.createElement('div');\n",
              "          docLink.innerHTML = docLinkHtml;\n",
              "          element.appendChild(docLink);\n",
              "        }\n",
              "      </script>\n",
              "    </div>\n",
              "  </div>\n",
              "  "
            ]
          },
          "metadata": {},
          "execution_count": 36
        }
      ]
    },
    {
      "cell_type": "code",
      "source": [
        "data=data.replace(\"?\",np.nan)\n",
        "\n",
        "# Replace the '?' by np.nan so that we can preprocess it."
      ],
      "metadata": {
        "id": "uGrfIduuB5hW"
      },
      "execution_count": null,
      "outputs": []
    },
    {
      "cell_type": "markdown",
      "source": [
        "Checking for missing values"
      ],
      "metadata": {
        "id": "wVllwxCN9U80"
      }
    },
    {
      "cell_type": "code",
      "source": [
        "data.isnull().any()"
      ],
      "metadata": {
        "colab": {
          "base_uri": "https://localhost:8080/"
        },
        "id": "dG9ukt4a9AVz",
        "outputId": "5e98c9cb-0496-4934-c4c2-5226c95164a2"
      },
      "execution_count": null,
      "outputs": [
        {
          "output_type": "execute_result",
          "data": {
            "text/plain": [
              "Class          False\n",
              " Age           False\n",
              " Menopause     False\n",
              "Tumor-size     False\n",
              "Inv-nodes      False\n",
              "Node-caps       True\n",
              "deg-malig      False\n",
              "Breast         False\n",
              "Breast-quad     True\n",
              "Irradiat       False\n",
              "dtype: bool"
            ]
          },
          "metadata": {},
          "execution_count": 38
        }
      ]
    },
    {
      "cell_type": "markdown",
      "source": [
        "Replace missing values with most frequent strategy using Simple Imputer"
      ],
      "metadata": {
        "id": "Lo1WlJLlE6GM"
      }
    },
    {
      "cell_type": "code",
      "source": [
        "imputer=SimpleImputer(missing_values=np.NaN,strategy='most_frequent')"
      ],
      "metadata": {
        "id": "pLMMwK-b9ckW"
      },
      "execution_count": null,
      "outputs": []
    },
    {
      "cell_type": "code",
      "source": [
        "data['Node-caps']=imputer.fit_transform(data[['Node-caps']])\n",
        "data['Breast-quad']=imputer.fit_transform(data[['Breast-quad']])"
      ],
      "metadata": {
        "id": "YnlLBQ6EEnbM"
      },
      "execution_count": null,
      "outputs": []
    },
    {
      "cell_type": "code",
      "source": [
        "data.isnull().any()"
      ],
      "metadata": {
        "colab": {
          "base_uri": "https://localhost:8080/"
        },
        "id": "1PPl-h8zEwFJ",
        "outputId": "e410a7c1-2162-4d8d-af99-934ba9f76b3e"
      },
      "execution_count": null,
      "outputs": [
        {
          "output_type": "execute_result",
          "data": {
            "text/plain": [
              "Class          False\n",
              " Age           False\n",
              " Menopause     False\n",
              "Tumor-size     False\n",
              "Inv-nodes      False\n",
              "Node-caps      False\n",
              "deg-malig      False\n",
              "Breast         False\n",
              "Breast-quad    False\n",
              "Irradiat       False\n",
              "dtype: bool"
            ]
          },
          "metadata": {},
          "execution_count": 41
        }
      ]
    },
    {
      "cell_type": "markdown",
      "source": [
        "Info of dataset"
      ],
      "metadata": {
        "id": "qxpvtFhDOdbq"
      }
    },
    {
      "cell_type": "code",
      "source": [
        "data.info()"
      ],
      "metadata": {
        "colab": {
          "base_uri": "https://localhost:8080/"
        },
        "id": "XXYk_8bpLJdD",
        "outputId": "e272531a-dc83-4183-c5ef-503494c834fc"
      },
      "execution_count": null,
      "outputs": [
        {
          "output_type": "stream",
          "name": "stdout",
          "text": [
            "<class 'pandas.core.frame.DataFrame'>\n",
            "Int64Index: 286 entries, 121 to 265\n",
            "Data columns (total 10 columns):\n",
            " #   Column       Non-Null Count  Dtype \n",
            "---  ------       --------------  ----- \n",
            " 0   Class        286 non-null    object\n",
            " 1    Age         286 non-null    object\n",
            " 2    Menopause   286 non-null    object\n",
            " 3   Tumor-size   286 non-null    object\n",
            " 4   Inv-nodes    286 non-null    object\n",
            " 5   Node-caps    286 non-null    object\n",
            " 6   deg-malig    286 non-null    int64 \n",
            " 7   Breast       286 non-null    object\n",
            " 8   Breast-quad  286 non-null    object\n",
            " 9   Irradiat     286 non-null    object\n",
            "dtypes: int64(1), object(9)\n",
            "memory usage: 24.6+ KB\n"
          ]
        }
      ]
    },
    {
      "cell_type": "code",
      "source": [
        "features=list(data.columns)\n",
        "features"
      ],
      "metadata": {
        "colab": {
          "base_uri": "https://localhost:8080/"
        },
        "id": "Qtj0R75HHhpR",
        "outputId": "09aeefa4-d784-4015-c57e-db5f357ca20f"
      },
      "execution_count": null,
      "outputs": [
        {
          "output_type": "execute_result",
          "data": {
            "text/plain": [
              "['Class',\n",
              " ' Age',\n",
              " ' Menopause',\n",
              " 'Tumor-size',\n",
              " 'Inv-nodes',\n",
              " 'Node-caps',\n",
              " 'deg-malig',\n",
              " 'Breast',\n",
              " 'Breast-quad',\n",
              " 'Irradiat']"
            ]
          },
          "metadata": {},
          "execution_count": 43
        }
      ]
    },
    {
      "cell_type": "markdown",
      "source": [
        "check unique values in corresponding features"
      ],
      "metadata": {
        "id": "OKSzbrmMOkoF"
      }
    },
    {
      "cell_type": "code",
      "source": [
        "for column in data:\n",
        "  print(f\"{column} : {data[column].unique()}\")"
      ],
      "metadata": {
        "colab": {
          "base_uri": "https://localhost:8080/"
        },
        "id": "WEUn8EpfMF-y",
        "outputId": "183c8215-6b53-4a2e-a95b-df27b9037b1b"
      },
      "execution_count": null,
      "outputs": [
        {
          "output_type": "stream",
          "name": "stdout",
          "text": [
            "Class : ['no-recurrence-events' 'recurrence-events']\n",
            " Age : ['50-59' '30-39' '40-49' '60-69' '70-79' '20-29']\n",
            " Menopause : ['ge40' 'premeno' 'lt40']\n",
            "Tumor-size : ['15-19' '35-39' '10-14' '40-44' '30-34' '20-24' '50-54' '0-4' '25-29'\n",
            " '45-49' '5-9']\n",
            "Inv-nodes : ['0-2' '3-5' '9-11' '6-8' '15-17' '12-14' '24-26']\n",
            "Node-caps : ['no' 'yes']\n",
            "deg-malig : [2 3 1]\n",
            "Breast : ['right' 'left']\n",
            "Breast-quad : ['right_up' 'left_low' 'right_low' 'left_up' 'central']\n",
            "Irradiat : ['no' 'yes']\n"
          ]
        }
      ]
    },
    {
      "cell_type": "markdown",
      "source": [
        "LabelEncode the object type data"
      ],
      "metadata": {
        "id": "X3UXNUHnOukQ"
      }
    },
    {
      "cell_type": "code",
      "source": [
        "label_encoder=LabelEncoder()\n",
        "data['Class']=label_encoder.fit_transform(data['Class'])\n",
        "data[' Age']=label_encoder.fit_transform(data[' Age'])\n",
        "data[' Menopause']=label_encoder.fit_transform(data[' Menopause'])\n",
        "data['Tumor-size']=label_encoder.fit_transform(data['Tumor-size'])\n",
        "data['Inv-nodes']=label_encoder.fit_transform(data['Inv-nodes'])\n",
        "data['Node-caps']=label_encoder.fit_transform(data['Node-caps'])\n",
        "data['deg-malig']=label_encoder.fit_transform(data['deg-malig'])\n",
        "data['Breast']=label_encoder.fit_transform(data['Breast'])\n",
        "data['Breast-quad']=label_encoder.fit_transform(data['Breast-quad'])\n",
        "data['Irradiat']=label_encoder.fit_transform(data['Irradiat'])"
      ],
      "metadata": {
        "id": "yHRrL7CgFEdf"
      },
      "execution_count": null,
      "outputs": []
    },
    {
      "cell_type": "code",
      "source": [
        "data"
      ],
      "metadata": {
        "colab": {
          "base_uri": "https://localhost:8080/",
          "height": 419
        },
        "id": "Gc1fCj0c6QoA",
        "outputId": "0b729fcc-ebf9-4cdb-a560-fed916eb0e68"
      },
      "execution_count": null,
      "outputs": [
        {
          "output_type": "execute_result",
          "data": {
            "text/plain": [
              "     Class   Age   Menopause  ...  Breast  Breast-quad  Irradiat\n",
              "121      0     3           0  ...       1            4         0\n",
              "268      1     1           2  ...       0            1         0\n",
              "61       0     2           2  ...       1            3         0\n",
              "131      0     2           2  ...       1            2         1\n",
              "232      1     1           2  ...       1            2         1\n",
              "..     ...   ...         ...  ...     ...          ...       ...\n",
              "156      0     3           0  ...       1            2         0\n",
              "123      0     3           0  ...       1            1         0\n",
              "15       0     4           1  ...       0            1         0\n",
              "125      0     5           0  ...       0            0         0\n",
              "265      1     1           2  ...       0            1         0\n",
              "\n",
              "[286 rows x 10 columns]"
            ],
            "text/html": [
              "\n",
              "  <div id=\"df-45ed53d1-1aa7-4e40-95a7-a702b74459f6\">\n",
              "    <div class=\"colab-df-container\">\n",
              "      <div>\n",
              "<style scoped>\n",
              "    .dataframe tbody tr th:only-of-type {\n",
              "        vertical-align: middle;\n",
              "    }\n",
              "\n",
              "    .dataframe tbody tr th {\n",
              "        vertical-align: top;\n",
              "    }\n",
              "\n",
              "    .dataframe thead th {\n",
              "        text-align: right;\n",
              "    }\n",
              "</style>\n",
              "<table border=\"1\" class=\"dataframe\">\n",
              "  <thead>\n",
              "    <tr style=\"text-align: right;\">\n",
              "      <th></th>\n",
              "      <th>Class</th>\n",
              "      <th>Age</th>\n",
              "      <th>Menopause</th>\n",
              "      <th>Tumor-size</th>\n",
              "      <th>Inv-nodes</th>\n",
              "      <th>Node-caps</th>\n",
              "      <th>deg-malig</th>\n",
              "      <th>Breast</th>\n",
              "      <th>Breast-quad</th>\n",
              "      <th>Irradiat</th>\n",
              "    </tr>\n",
              "  </thead>\n",
              "  <tbody>\n",
              "    <tr>\n",
              "      <th>121</th>\n",
              "      <td>0</td>\n",
              "      <td>3</td>\n",
              "      <td>0</td>\n",
              "      <td>2</td>\n",
              "      <td>0</td>\n",
              "      <td>0</td>\n",
              "      <td>1</td>\n",
              "      <td>1</td>\n",
              "      <td>4</td>\n",
              "      <td>0</td>\n",
              "    </tr>\n",
              "    <tr>\n",
              "      <th>268</th>\n",
              "      <td>1</td>\n",
              "      <td>1</td>\n",
              "      <td>2</td>\n",
              "      <td>6</td>\n",
              "      <td>0</td>\n",
              "      <td>0</td>\n",
              "      <td>2</td>\n",
              "      <td>0</td>\n",
              "      <td>1</td>\n",
              "      <td>0</td>\n",
              "    </tr>\n",
              "    <tr>\n",
              "      <th>61</th>\n",
              "      <td>0</td>\n",
              "      <td>2</td>\n",
              "      <td>2</td>\n",
              "      <td>1</td>\n",
              "      <td>0</td>\n",
              "      <td>0</td>\n",
              "      <td>0</td>\n",
              "      <td>1</td>\n",
              "      <td>3</td>\n",
              "      <td>0</td>\n",
              "    </tr>\n",
              "    <tr>\n",
              "      <th>131</th>\n",
              "      <td>0</td>\n",
              "      <td>2</td>\n",
              "      <td>2</td>\n",
              "      <td>7</td>\n",
              "      <td>4</td>\n",
              "      <td>1</td>\n",
              "      <td>2</td>\n",
              "      <td>1</td>\n",
              "      <td>2</td>\n",
              "      <td>1</td>\n",
              "    </tr>\n",
              "    <tr>\n",
              "      <th>232</th>\n",
              "      <td>1</td>\n",
              "      <td>1</td>\n",
              "      <td>2</td>\n",
              "      <td>5</td>\n",
              "      <td>4</td>\n",
              "      <td>0</td>\n",
              "      <td>2</td>\n",
              "      <td>1</td>\n",
              "      <td>2</td>\n",
              "      <td>1</td>\n",
              "    </tr>\n",
              "    <tr>\n",
              "      <th>...</th>\n",
              "      <td>...</td>\n",
              "      <td>...</td>\n",
              "      <td>...</td>\n",
              "      <td>...</td>\n",
              "      <td>...</td>\n",
              "      <td>...</td>\n",
              "      <td>...</td>\n",
              "      <td>...</td>\n",
              "      <td>...</td>\n",
              "      <td>...</td>\n",
              "    </tr>\n",
              "    <tr>\n",
              "      <th>156</th>\n",
              "      <td>0</td>\n",
              "      <td>3</td>\n",
              "      <td>0</td>\n",
              "      <td>4</td>\n",
              "      <td>4</td>\n",
              "      <td>1</td>\n",
              "      <td>2</td>\n",
              "      <td>1</td>\n",
              "      <td>2</td>\n",
              "      <td>0</td>\n",
              "    </tr>\n",
              "    <tr>\n",
              "      <th>123</th>\n",
              "      <td>0</td>\n",
              "      <td>3</td>\n",
              "      <td>0</td>\n",
              "      <td>5</td>\n",
              "      <td>0</td>\n",
              "      <td>0</td>\n",
              "      <td>0</td>\n",
              "      <td>1</td>\n",
              "      <td>1</td>\n",
              "      <td>0</td>\n",
              "    </tr>\n",
              "    <tr>\n",
              "      <th>15</th>\n",
              "      <td>0</td>\n",
              "      <td>4</td>\n",
              "      <td>1</td>\n",
              "      <td>5</td>\n",
              "      <td>0</td>\n",
              "      <td>0</td>\n",
              "      <td>0</td>\n",
              "      <td>0</td>\n",
              "      <td>1</td>\n",
              "      <td>0</td>\n",
              "    </tr>\n",
              "    <tr>\n",
              "      <th>125</th>\n",
              "      <td>0</td>\n",
              "      <td>5</td>\n",
              "      <td>0</td>\n",
              "      <td>1</td>\n",
              "      <td>0</td>\n",
              "      <td>0</td>\n",
              "      <td>1</td>\n",
              "      <td>0</td>\n",
              "      <td>0</td>\n",
              "      <td>0</td>\n",
              "    </tr>\n",
              "    <tr>\n",
              "      <th>265</th>\n",
              "      <td>1</td>\n",
              "      <td>1</td>\n",
              "      <td>2</td>\n",
              "      <td>6</td>\n",
              "      <td>6</td>\n",
              "      <td>1</td>\n",
              "      <td>2</td>\n",
              "      <td>0</td>\n",
              "      <td>1</td>\n",
              "      <td>0</td>\n",
              "    </tr>\n",
              "  </tbody>\n",
              "</table>\n",
              "<p>286 rows × 10 columns</p>\n",
              "</div>\n",
              "      <button class=\"colab-df-convert\" onclick=\"convertToInteractive('df-45ed53d1-1aa7-4e40-95a7-a702b74459f6')\"\n",
              "              title=\"Convert this dataframe to an interactive table.\"\n",
              "              style=\"display:none;\">\n",
              "        \n",
              "  <svg xmlns=\"http://www.w3.org/2000/svg\" height=\"24px\"viewBox=\"0 0 24 24\"\n",
              "       width=\"24px\">\n",
              "    <path d=\"M0 0h24v24H0V0z\" fill=\"none\"/>\n",
              "    <path d=\"M18.56 5.44l.94 2.06.94-2.06 2.06-.94-2.06-.94-.94-2.06-.94 2.06-2.06.94zm-11 1L8.5 8.5l.94-2.06 2.06-.94-2.06-.94L8.5 2.5l-.94 2.06-2.06.94zm10 10l.94 2.06.94-2.06 2.06-.94-2.06-.94-.94-2.06-.94 2.06-2.06.94z\"/><path d=\"M17.41 7.96l-1.37-1.37c-.4-.4-.92-.59-1.43-.59-.52 0-1.04.2-1.43.59L10.3 9.45l-7.72 7.72c-.78.78-.78 2.05 0 2.83L4 21.41c.39.39.9.59 1.41.59.51 0 1.02-.2 1.41-.59l7.78-7.78 2.81-2.81c.8-.78.8-2.07 0-2.86zM5.41 20L4 18.59l7.72-7.72 1.47 1.35L5.41 20z\"/>\n",
              "  </svg>\n",
              "      </button>\n",
              "      \n",
              "  <style>\n",
              "    .colab-df-container {\n",
              "      display:flex;\n",
              "      flex-wrap:wrap;\n",
              "      gap: 12px;\n",
              "    }\n",
              "\n",
              "    .colab-df-convert {\n",
              "      background-color: #E8F0FE;\n",
              "      border: none;\n",
              "      border-radius: 50%;\n",
              "      cursor: pointer;\n",
              "      display: none;\n",
              "      fill: #1967D2;\n",
              "      height: 32px;\n",
              "      padding: 0 0 0 0;\n",
              "      width: 32px;\n",
              "    }\n",
              "\n",
              "    .colab-df-convert:hover {\n",
              "      background-color: #E2EBFA;\n",
              "      box-shadow: 0px 1px 2px rgba(60, 64, 67, 0.3), 0px 1px 3px 1px rgba(60, 64, 67, 0.15);\n",
              "      fill: #174EA6;\n",
              "    }\n",
              "\n",
              "    [theme=dark] .colab-df-convert {\n",
              "      background-color: #3B4455;\n",
              "      fill: #D2E3FC;\n",
              "    }\n",
              "\n",
              "    [theme=dark] .colab-df-convert:hover {\n",
              "      background-color: #434B5C;\n",
              "      box-shadow: 0px 1px 3px 1px rgba(0, 0, 0, 0.15);\n",
              "      filter: drop-shadow(0px 1px 2px rgba(0, 0, 0, 0.3));\n",
              "      fill: #FFFFFF;\n",
              "    }\n",
              "  </style>\n",
              "\n",
              "      <script>\n",
              "        const buttonEl =\n",
              "          document.querySelector('#df-45ed53d1-1aa7-4e40-95a7-a702b74459f6 button.colab-df-convert');\n",
              "        buttonEl.style.display =\n",
              "          google.colab.kernel.accessAllowed ? 'block' : 'none';\n",
              "\n",
              "        async function convertToInteractive(key) {\n",
              "          const element = document.querySelector('#df-45ed53d1-1aa7-4e40-95a7-a702b74459f6');\n",
              "          const dataTable =\n",
              "            await google.colab.kernel.invokeFunction('convertToInteractive',\n",
              "                                                     [key], {});\n",
              "          if (!dataTable) return;\n",
              "\n",
              "          const docLinkHtml = 'Like what you see? Visit the ' +\n",
              "            '<a target=\"_blank\" href=https://colab.research.google.com/notebooks/data_table.ipynb>data table notebook</a>'\n",
              "            + ' to learn more about interactive tables.';\n",
              "          element.innerHTML = '';\n",
              "          dataTable['output_type'] = 'display_data';\n",
              "          await google.colab.output.renderOutput(dataTable, element);\n",
              "          const docLink = document.createElement('div');\n",
              "          docLink.innerHTML = docLinkHtml;\n",
              "          element.appendChild(docLink);\n",
              "        }\n",
              "      </script>\n",
              "    </div>\n",
              "  </div>\n",
              "  "
            ]
          },
          "metadata": {},
          "execution_count": 46
        }
      ]
    },
    {
      "cell_type": "code",
      "source": [
        "for column in data:\n",
        "  print(f\"{column} : {data[column].unique()}\")"
      ],
      "metadata": {
        "colab": {
          "base_uri": "https://localhost:8080/"
        },
        "id": "l4DiUEg1MrO2",
        "outputId": "a389f2a2-4513-46b5-eb66-3d1ee9444f5f"
      },
      "execution_count": null,
      "outputs": [
        {
          "output_type": "stream",
          "name": "stdout",
          "text": [
            "Class : [0 1]\n",
            " Age : [3 1 2 4 5 0]\n",
            " Menopause : [0 2 1]\n",
            "Tumor-size : [ 2  6  1  7  5  3 10  0  4  8  9]\n",
            "Inv-nodes : [0 4 6 5 2 1 3]\n",
            "Node-caps : [0 1]\n",
            "deg-malig : [1 2 0]\n",
            "Breast : [1 0]\n",
            "Breast-quad : [4 1 3 2 0]\n",
            "Irradiat : [0 1]\n"
          ]
        }
      ]
    },
    {
      "cell_type": "markdown",
      "source": [
        "Visualizing Dataset"
      ],
      "metadata": {
        "id": "92USCglxQmVe"
      }
    },
    {
      "cell_type": "code",
      "source": [
        "plot=sns.pairplot(data,hue='Class',kind='hist')"
      ],
      "metadata": {
        "colab": {
          "base_uri": "https://localhost:8080/",
          "height": 1000
        },
        "id": "tHuUsGWnoOb0",
        "outputId": "1344efc9-5771-4419-c48e-502b666a6671"
      },
      "execution_count": null,
      "outputs": [
        {
          "output_type": "display_data",
          "data": {
            "text/plain": [
              "<Figure size 1662.38x1620 with 90 Axes>"
            ],
            "image/png": "[encoded data removed]"
          },
          "metadata": {
            "needs_background": "light"
          }
        }
      ]
    },
    {
      "cell_type": "markdown",
      "source": [
        "Split Dataset into Training nd Testing"
      ],
      "metadata": {
        "id": "HdJeFCohO6UG"
      }
    },
    {
      "cell_type": "code",
      "source": [
        "X=data.drop('Class',axis=1)\n",
        "y=data['Class']"
      ],
      "metadata": {
        "id": "avr2lMeswq3S"
      },
      "execution_count": null,
      "outputs": []
    },
    {
      "cell_type": "code",
      "source": [
        "X_train,X_test,y_train,y_test=train_test_split(X,y,test_size=0.2,random_state=10)"
      ],
      "metadata": {
        "id": "SL3du8K07YLg"
      },
      "execution_count": null,
      "outputs": []
    },
    {
      "cell_type": "code",
      "source": [
        "print(X_train.shape,X_test.shape)"
      ],
      "metadata": {
        "colab": {
          "base_uri": "https://localhost:8080/"
        },
        "id": "QtuQCqsI7wTJ",
        "outputId": "744c219e-937a-4a3b-b9ae-4d73c056a382"
      },
      "execution_count": null,
      "outputs": [
        {
          "output_type": "stream",
          "name": "stdout",
          "text": [
            "(228, 9) (58, 9)\n"
          ]
        }
      ]
    },
    {
      "cell_type": "markdown",
      "source": [
        "Build model"
      ],
      "metadata": {
        "id": "kbWLn815PBmA"
      }
    },
    {
      "cell_type": "code",
      "source": [
        "model=Sequential()\n",
        "\n",
        "model.add(Dense(30,input_dim=9,activation='relu',kernel_initializer='uniform'))\n",
        "\n",
        "model.add(Dense(15,activation='relu',kernel_initializer='uniform'))\n",
        "\n",
        "model.add(Dense(1,activation='sigmoid'))"
      ],
      "metadata": {
        "id": "Ut-PaXicSGRU"
      },
      "execution_count": null,
      "outputs": []
    },
    {
      "cell_type": "code",
      "source": [
        "model.compile(loss='binary_crossentropy',optimizer=Adam(learning_rate=0.001),metrics=['accuracy'])\n",
        "model.summary()"
      ],
      "metadata": {
        "colab": {
          "base_uri": "https://localhost:8080/"
        },
        "id": "jL3AMvPYTfh1",
        "outputId": "2473a845-b142-4da1-d8af-8fb862056a60"
      },
      "execution_count": null,
      "outputs": [
        {
          "output_type": "stream",
          "name": "stdout",
          "text": [
            "Model: \"sequential_1\"\n",
            "_________________________________________________________________\n",
            " Layer (type)                Output Shape              Param #   \n",
            "=================================================================\n",
            " dense_4 (Dense)             (None, 30)                300       \n",
            "                                                                 \n",
            " dense_5 (Dense)             (None, 15)                465       \n",
            "                                                                 \n",
            " dense_6 (Dense)             (None, 1)                 16        \n",
            "                                                                 \n",
            "=================================================================\n",
            "Total params: 781\n",
            "Trainable params: 781\n",
            "Non-trainable params: 0\n",
            "_________________________________________________________________\n"
          ]
        }
      ]
    },
    {
      "cell_type": "markdown",
      "source": [
        "Training the model"
      ],
      "metadata": {
        "id": "wdHV0_UVPLub"
      }
    },
    {
      "cell_type": "code",
      "source": [
        "training_history=model.fit(X_train,y_train,epochs=100,batch_size=10,validation_data=(X_test,y_test))"
      ],
      "metadata": {
        "colab": {
          "base_uri": "https://localhost:8080/"
        },
        "id": "jfVXAnvMU6zk",
        "outputId": "38bdb54c-d88e-44f9-9705-4cbf2d514042"
      },
      "execution_count": null,
      "outputs": [
        {
          "output_type": "stream",
          "name": "stdout",
          "text": [
            "Epoch 1/100\n",
            "23/23 [==============================] - 1s 10ms/step - loss: 0.6837 - accuracy: 0.6798 - val_loss: 0.6653 - val_accuracy: 0.7414\n",
            "Epoch 2/100\n",
            "23/23 [==============================] - 0s 4ms/step - loss: 0.6544 - accuracy: 0.6930 - val_loss: 0.6161 - val_accuracy: 0.7414\n",
            "Epoch 3/100\n",
            "23/23 [==============================] - 0s 4ms/step - loss: 0.6242 - accuracy: 0.6930 - val_loss: 0.5794 - val_accuracy: 0.7414\n",
            "Epoch 4/100\n",
            "23/23 [==============================] - 0s 4ms/step - loss: 0.6021 - accuracy: 0.6930 - val_loss: 0.5682 - val_accuracy: 0.7759\n",
            "Epoch 5/100\n",
            "23/23 [==============================] - 0s 3ms/step - loss: 0.5876 - accuracy: 0.7193 - val_loss: 0.5591 - val_accuracy: 0.7586\n",
            "Epoch 6/100\n",
            "23/23 [==============================] - 0s 3ms/step - loss: 0.5751 - accuracy: 0.7412 - val_loss: 0.5533 - val_accuracy: 0.7414\n",
            "Epoch 7/100\n",
            "23/23 [==============================] - 0s 3ms/step - loss: 0.5705 - accuracy: 0.7281 - val_loss: 0.5518 - val_accuracy: 0.7414\n",
            "Epoch 8/100\n",
            "23/23 [==============================] - 0s 5ms/step - loss: 0.5628 - accuracy: 0.7281 - val_loss: 0.5496 - val_accuracy: 0.7414\n",
            "Epoch 9/100\n",
            "23/23 [==============================] - 0s 4ms/step - loss: 0.5649 - accuracy: 0.7237 - val_loss: 0.5541 - val_accuracy: 0.7414\n",
            "Epoch 10/100\n",
            "23/23 [==============================] - 0s 3ms/step - loss: 0.5556 - accuracy: 0.7325 - val_loss: 0.5488 - val_accuracy: 0.7414\n",
            "Epoch 11/100\n",
            "23/23 [==============================] - 0s 4ms/step - loss: 0.5531 - accuracy: 0.7412 - val_loss: 0.5549 - val_accuracy: 0.7414\n",
            "Epoch 12/100\n",
            "23/23 [==============================] - 0s 4ms/step - loss: 0.5523 - accuracy: 0.7412 - val_loss: 0.5542 - val_accuracy: 0.7414\n",
            "Epoch 13/100\n",
            "23/23 [==============================] - 0s 3ms/step - loss: 0.5534 - accuracy: 0.7412 - val_loss: 0.5442 - val_accuracy: 0.7414\n",
            "Epoch 14/100\n",
            "23/23 [==============================] - 0s 3ms/step - loss: 0.5511 - accuracy: 0.7368 - val_loss: 0.5547 - val_accuracy: 0.7414\n",
            "Epoch 15/100\n",
            "23/23 [==============================] - 0s 3ms/step - loss: 0.5555 - accuracy: 0.7368 - val_loss: 0.5514 - val_accuracy: 0.7414\n",
            "Epoch 16/100\n",
            "23/23 [==============================] - 0s 3ms/step - loss: 0.5526 - accuracy: 0.7412 - val_loss: 0.5532 - val_accuracy: 0.7414\n",
            "Epoch 17/100\n",
            "23/23 [==============================] - 0s 3ms/step - loss: 0.5455 - accuracy: 0.7588 - val_loss: 0.5483 - val_accuracy: 0.7414\n",
            "Epoch 18/100\n",
            "23/23 [==============================] - 0s 4ms/step - loss: 0.5433 - accuracy: 0.7500 - val_loss: 0.5541 - val_accuracy: 0.7414\n",
            "Epoch 19/100\n",
            "23/23 [==============================] - 0s 4ms/step - loss: 0.5461 - accuracy: 0.7544 - val_loss: 0.5488 - val_accuracy: 0.7414\n",
            "Epoch 20/100\n",
            "23/23 [==============================] - 0s 4ms/step - loss: 0.5416 - accuracy: 0.7500 - val_loss: 0.5443 - val_accuracy: 0.7414\n",
            "Epoch 21/100\n",
            "23/23 [==============================] - 0s 3ms/step - loss: 0.5465 - accuracy: 0.7500 - val_loss: 0.5450 - val_accuracy: 0.7414\n",
            "Epoch 22/100\n",
            "23/23 [==============================] - 0s 4ms/step - loss: 0.5458 - accuracy: 0.7588 - val_loss: 0.5442 - val_accuracy: 0.7414\n",
            "Epoch 23/100\n",
            "23/23 [==============================] - 0s 3ms/step - loss: 0.5386 - accuracy: 0.7588 - val_loss: 0.5528 - val_accuracy: 0.7414\n",
            "Epoch 24/100\n",
            "23/23 [==============================] - 0s 4ms/step - loss: 0.5404 - accuracy: 0.7632 - val_loss: 0.5475 - val_accuracy: 0.7414\n",
            "Epoch 25/100\n",
            "23/23 [==============================] - 0s 4ms/step - loss: 0.5364 - accuracy: 0.7632 - val_loss: 0.5460 - val_accuracy: 0.7414\n",
            "Epoch 26/100\n",
            "23/23 [==============================] - 0s 4ms/step - loss: 0.5380 - accuracy: 0.7544 - val_loss: 0.5515 - val_accuracy: 0.7414\n",
            "Epoch 27/100\n",
            "23/23 [==============================] - 0s 4ms/step - loss: 0.5520 - accuracy: 0.7456 - val_loss: 0.5564 - val_accuracy: 0.7414\n",
            "Epoch 28/100\n",
            "23/23 [==============================] - 0s 3ms/step - loss: 0.5464 - accuracy: 0.7281 - val_loss: 0.5387 - val_accuracy: 0.7414\n",
            "Epoch 29/100\n",
            "23/23 [==============================] - 0s 4ms/step - loss: 0.5360 - accuracy: 0.7544 - val_loss: 0.5422 - val_accuracy: 0.7414\n",
            "Epoch 30/100\n",
            "23/23 [==============================] - 0s 4ms/step - loss: 0.5338 - accuracy: 0.7632 - val_loss: 0.5489 - val_accuracy: 0.7414\n",
            "Epoch 31/100\n",
            "23/23 [==============================] - 0s 4ms/step - loss: 0.5317 - accuracy: 0.7632 - val_loss: 0.5414 - val_accuracy: 0.7414\n",
            "Epoch 32/100\n",
            "23/23 [==============================] - 0s 3ms/step - loss: 0.5381 - accuracy: 0.7588 - val_loss: 0.5399 - val_accuracy: 0.7414\n",
            "Epoch 33/100\n",
            "23/23 [==============================] - 0s 4ms/step - loss: 0.5406 - accuracy: 0.7675 - val_loss: 0.5485 - val_accuracy: 0.7414\n",
            "Epoch 34/100\n",
            "23/23 [==============================] - 0s 3ms/step - loss: 0.5416 - accuracy: 0.7500 - val_loss: 0.5481 - val_accuracy: 0.7414\n",
            "Epoch 35/100\n",
            "23/23 [==============================] - 0s 3ms/step - loss: 0.5521 - accuracy: 0.7456 - val_loss: 0.5409 - val_accuracy: 0.7414\n",
            "Epoch 36/100\n",
            "23/23 [==============================] - 0s 3ms/step - loss: 0.5322 - accuracy: 0.7588 - val_loss: 0.5521 - val_accuracy: 0.7414\n",
            "Epoch 37/100\n",
            "23/23 [==============================] - 0s 4ms/step - loss: 0.5313 - accuracy: 0.7632 - val_loss: 0.5394 - val_accuracy: 0.7414\n",
            "Epoch 38/100\n",
            "23/23 [==============================] - 0s 3ms/step - loss: 0.5285 - accuracy: 0.7588 - val_loss: 0.5422 - val_accuracy: 0.7414\n",
            "Epoch 39/100\n",
            "23/23 [==============================] - 0s 3ms/step - loss: 0.5278 - accuracy: 0.7763 - val_loss: 0.5435 - val_accuracy: 0.7414\n",
            "Epoch 40/100\n",
            "23/23 [==============================] - 0s 3ms/step - loss: 0.5269 - accuracy: 0.7763 - val_loss: 0.5430 - val_accuracy: 0.7414\n",
            "Epoch 41/100\n",
            "23/23 [==============================] - 0s 4ms/step - loss: 0.5267 - accuracy: 0.7675 - val_loss: 0.5447 - val_accuracy: 0.7414\n",
            "Epoch 42/100\n",
            "23/23 [==============================] - 0s 4ms/step - loss: 0.5317 - accuracy: 0.7588 - val_loss: 0.5333 - val_accuracy: 0.7414\n",
            "Epoch 43/100\n",
            "23/23 [==============================] - 0s 4ms/step - loss: 0.5326 - accuracy: 0.7500 - val_loss: 0.5453 - val_accuracy: 0.7414\n",
            "Epoch 44/100\n",
            "23/23 [==============================] - 0s 4ms/step - loss: 0.5233 - accuracy: 0.7807 - val_loss: 0.5407 - val_accuracy: 0.7414\n",
            "Epoch 45/100\n",
            "23/23 [==============================] - 0s 3ms/step - loss: 0.5241 - accuracy: 0.7719 - val_loss: 0.5488 - val_accuracy: 0.7414\n",
            "Epoch 46/100\n",
            "23/23 [==============================] - 0s 3ms/step - loss: 0.5229 - accuracy: 0.7588 - val_loss: 0.5354 - val_accuracy: 0.7414\n",
            "Epoch 47/100\n",
            "23/23 [==============================] - 0s 3ms/step - loss: 0.5257 - accuracy: 0.7588 - val_loss: 0.5434 - val_accuracy: 0.7414\n",
            "Epoch 48/100\n",
            "23/23 [==============================] - 0s 3ms/step - loss: 0.5207 - accuracy: 0.7763 - val_loss: 0.5415 - val_accuracy: 0.7414\n",
            "Epoch 49/100\n",
            "23/23 [==============================] - 0s 3ms/step - loss: 0.5209 - accuracy: 0.7632 - val_loss: 0.5393 - val_accuracy: 0.7414\n",
            "Epoch 50/100\n",
            "23/23 [==============================] - 0s 3ms/step - loss: 0.5205 - accuracy: 0.7763 - val_loss: 0.5404 - val_accuracy: 0.7414\n",
            "Epoch 51/100\n",
            "23/23 [==============================] - 0s 4ms/step - loss: 0.5197 - accuracy: 0.7675 - val_loss: 0.5360 - val_accuracy: 0.7414\n",
            "Epoch 52/100\n",
            "23/23 [==============================] - 0s 4ms/step - loss: 0.5219 - accuracy: 0.7632 - val_loss: 0.5361 - val_accuracy: 0.7414\n",
            "Epoch 53/100\n",
            "23/23 [==============================] - 0s 3ms/step - loss: 0.5161 - accuracy: 0.7763 - val_loss: 0.5372 - val_accuracy: 0.7414\n",
            "Epoch 54/100\n",
            "23/23 [==============================] - 0s 3ms/step - loss: 0.5166 - accuracy: 0.7851 - val_loss: 0.5505 - val_accuracy: 0.7414\n",
            "Epoch 55/100\n",
            "23/23 [==============================] - 0s 3ms/step - loss: 0.5182 - accuracy: 0.7763 - val_loss: 0.5364 - val_accuracy: 0.7414\n",
            "Epoch 56/100\n",
            "23/23 [==============================] - 0s 4ms/step - loss: 0.5182 - accuracy: 0.7807 - val_loss: 0.5400 - val_accuracy: 0.7414\n",
            "Epoch 57/100\n",
            "23/23 [==============================] - 0s 5ms/step - loss: 0.5160 - accuracy: 0.7763 - val_loss: 0.5350 - val_accuracy: 0.7586\n",
            "Epoch 58/100\n",
            "23/23 [==============================] - 0s 5ms/step - loss: 0.5188 - accuracy: 0.7719 - val_loss: 0.5545 - val_accuracy: 0.7414\n",
            "Epoch 59/100\n",
            "23/23 [==============================] - 0s 3ms/step - loss: 0.5194 - accuracy: 0.7632 - val_loss: 0.5296 - val_accuracy: 0.7586\n",
            "Epoch 60/100\n",
            "23/23 [==============================] - 0s 4ms/step - loss: 0.5187 - accuracy: 0.7675 - val_loss: 0.5380 - val_accuracy: 0.7414\n",
            "Epoch 61/100\n",
            "23/23 [==============================] - 0s 3ms/step - loss: 0.5146 - accuracy: 0.7763 - val_loss: 0.5427 - val_accuracy: 0.7414\n",
            "Epoch 62/100\n",
            "23/23 [==============================] - 0s 4ms/step - loss: 0.5150 - accuracy: 0.7675 - val_loss: 0.5416 - val_accuracy: 0.7414\n",
            "Epoch 63/100\n",
            "23/23 [==============================] - 0s 4ms/step - loss: 0.5278 - accuracy: 0.7632 - val_loss: 0.5308 - val_accuracy: 0.7586\n",
            "Epoch 64/100\n",
            "23/23 [==============================] - 0s 3ms/step - loss: 0.5228 - accuracy: 0.7675 - val_loss: 0.5440 - val_accuracy: 0.7414\n",
            "Epoch 65/100\n",
            "23/23 [==============================] - 0s 4ms/step - loss: 0.5086 - accuracy: 0.7675 - val_loss: 0.5327 - val_accuracy: 0.7414\n",
            "Epoch 66/100\n",
            "23/23 [==============================] - 0s 5ms/step - loss: 0.5083 - accuracy: 0.7851 - val_loss: 0.5323 - val_accuracy: 0.7586\n",
            "Epoch 67/100\n",
            "23/23 [==============================] - 0s 3ms/step - loss: 0.5049 - accuracy: 0.7851 - val_loss: 0.5334 - val_accuracy: 0.7586\n",
            "Epoch 68/100\n",
            "23/23 [==============================] - 0s 4ms/step - loss: 0.5064 - accuracy: 0.7719 - val_loss: 0.5319 - val_accuracy: 0.7586\n",
            "Epoch 69/100\n",
            "23/23 [==============================] - 0s 4ms/step - loss: 0.5024 - accuracy: 0.7851 - val_loss: 0.5298 - val_accuracy: 0.7586\n",
            "Epoch 70/100\n",
            "23/23 [==============================] - 0s 3ms/step - loss: 0.5009 - accuracy: 0.7895 - val_loss: 0.5449 - val_accuracy: 0.7414\n",
            "Epoch 71/100\n",
            "23/23 [==============================] - 0s 3ms/step - loss: 0.5027 - accuracy: 0.7763 - val_loss: 0.5387 - val_accuracy: 0.7586\n",
            "Epoch 72/100\n",
            "23/23 [==============================] - 0s 4ms/step - loss: 0.5022 - accuracy: 0.7763 - val_loss: 0.5364 - val_accuracy: 0.7586\n",
            "Epoch 73/100\n",
            "23/23 [==============================] - 0s 4ms/step - loss: 0.5040 - accuracy: 0.7719 - val_loss: 0.5242 - val_accuracy: 0.7586\n",
            "Epoch 74/100\n",
            "23/23 [==============================] - 0s 3ms/step - loss: 0.4984 - accuracy: 0.7851 - val_loss: 0.5435 - val_accuracy: 0.7414\n",
            "Epoch 75/100\n",
            "23/23 [==============================] - 0s 4ms/step - loss: 0.5005 - accuracy: 0.7851 - val_loss: 0.5271 - val_accuracy: 0.7586\n",
            "Epoch 76/100\n",
            "23/23 [==============================] - 0s 4ms/step - loss: 0.4963 - accuracy: 0.7807 - val_loss: 0.5374 - val_accuracy: 0.7586\n",
            "Epoch 77/100\n",
            "23/23 [==============================] - 0s 5ms/step - loss: 0.4945 - accuracy: 0.7807 - val_loss: 0.5313 - val_accuracy: 0.7586\n",
            "Epoch 78/100\n",
            "23/23 [==============================] - 0s 5ms/step - loss: 0.4972 - accuracy: 0.7763 - val_loss: 0.5327 - val_accuracy: 0.7586\n",
            "Epoch 79/100\n",
            "23/23 [==============================] - 0s 6ms/step - loss: 0.4960 - accuracy: 0.7851 - val_loss: 0.5373 - val_accuracy: 0.7586\n",
            "Epoch 80/100\n",
            "23/23 [==============================] - 0s 5ms/step - loss: 0.4934 - accuracy: 0.7763 - val_loss: 0.5276 - val_accuracy: 0.7586\n",
            "Epoch 81/100\n",
            "23/23 [==============================] - 0s 5ms/step - loss: 0.4933 - accuracy: 0.7851 - val_loss: 0.5267 - val_accuracy: 0.7586\n",
            "Epoch 82/100\n",
            "23/23 [==============================] - 0s 5ms/step - loss: 0.4893 - accuracy: 0.7939 - val_loss: 0.5242 - val_accuracy: 0.7586\n",
            "Epoch 83/100\n",
            "23/23 [==============================] - 0s 5ms/step - loss: 0.4891 - accuracy: 0.7807 - val_loss: 0.5274 - val_accuracy: 0.7586\n",
            "Epoch 84/100\n",
            "23/23 [==============================] - 0s 5ms/step - loss: 0.4924 - accuracy: 0.7763 - val_loss: 0.5192 - val_accuracy: 0.7759\n",
            "Epoch 85/100\n",
            "23/23 [==============================] - 0s 5ms/step - loss: 0.4886 - accuracy: 0.7807 - val_loss: 0.5248 - val_accuracy: 0.7586\n",
            "Epoch 86/100\n",
            "23/23 [==============================] - 0s 6ms/step - loss: 0.4911 - accuracy: 0.7851 - val_loss: 0.5248 - val_accuracy: 0.7586\n",
            "Epoch 87/100\n",
            "23/23 [==============================] - 0s 6ms/step - loss: 0.4918 - accuracy: 0.7807 - val_loss: 0.5233 - val_accuracy: 0.7586\n",
            "Epoch 88/100\n",
            "23/23 [==============================] - 0s 6ms/step - loss: 0.4874 - accuracy: 0.7895 - val_loss: 0.5280 - val_accuracy: 0.7586\n",
            "Epoch 89/100\n",
            "23/23 [==============================] - 0s 5ms/step - loss: 0.4837 - accuracy: 0.7982 - val_loss: 0.5231 - val_accuracy: 0.7586\n",
            "Epoch 90/100\n",
            "23/23 [==============================] - 0s 5ms/step - loss: 0.4830 - accuracy: 0.7982 - val_loss: 0.5272 - val_accuracy: 0.7586\n",
            "Epoch 91/100\n",
            "23/23 [==============================] - 0s 5ms/step - loss: 0.4871 - accuracy: 0.7982 - val_loss: 0.5252 - val_accuracy: 0.7759\n",
            "Epoch 92/100\n",
            "23/23 [==============================] - 0s 5ms/step - loss: 0.4828 - accuracy: 0.7895 - val_loss: 0.5212 - val_accuracy: 0.7586\n",
            "Epoch 93/100\n",
            "23/23 [==============================] - 0s 5ms/step - loss: 0.4832 - accuracy: 0.7763 - val_loss: 0.5172 - val_accuracy: 0.7586\n",
            "Epoch 94/100\n",
            "23/23 [==============================] - 0s 6ms/step - loss: 0.4781 - accuracy: 0.7982 - val_loss: 0.5254 - val_accuracy: 0.7586\n",
            "Epoch 95/100\n",
            "23/23 [==============================] - 0s 7ms/step - loss: 0.4767 - accuracy: 0.7939 - val_loss: 0.5223 - val_accuracy: 0.7586\n",
            "Epoch 96/100\n",
            "23/23 [==============================] - 0s 6ms/step - loss: 0.4752 - accuracy: 0.7939 - val_loss: 0.5216 - val_accuracy: 0.7586\n",
            "Epoch 97/100\n",
            "23/23 [==============================] - 0s 6ms/step - loss: 0.4761 - accuracy: 0.8026 - val_loss: 0.5259 - val_accuracy: 0.7759\n",
            "Epoch 98/100\n",
            "23/23 [==============================] - 0s 6ms/step - loss: 0.4784 - accuracy: 0.7851 - val_loss: 0.5220 - val_accuracy: 0.7759\n",
            "Epoch 99/100\n",
            "23/23 [==============================] - 0s 5ms/step - loss: 0.4717 - accuracy: 0.7895 - val_loss: 0.5228 - val_accuracy: 0.7586\n",
            "Epoch 100/100\n",
            "23/23 [==============================] - 0s 5ms/step - loss: 0.4713 - accuracy: 0.7939 - val_loss: 0.5238 - val_accuracy: 0.7586\n"
          ]
        }
      ]
    },
    {
      "cell_type": "code",
      "source": [
        "hist=training_history.history\n",
        "hist.keys()"
      ],
      "metadata": {
        "colab": {
          "base_uri": "https://localhost:8080/"
        },
        "id": "ymHMgG-VVUg8",
        "outputId": "cd30d526-71ed-4629-a3b7-7134d01cb60c"
      },
      "execution_count": null,
      "outputs": [
        {
          "output_type": "execute_result",
          "data": {
            "text/plain": [
              "dict_keys(['loss', 'accuracy', 'val_loss', 'val_accuracy'])"
            ]
          },
          "metadata": {},
          "execution_count": 55
        }
      ]
    },
    {
      "cell_type": "code",
      "source": [
        "hist['val_accuracy'][-1]"
      ],
      "metadata": {
        "colab": {
          "base_uri": "https://localhost:8080/"
        },
        "id": "IlN2Y2ruVrnK",
        "outputId": "dc689ab3-0017-4ab6-e241-27b2cc7313f4"
      },
      "execution_count": null,
      "outputs": [
        {
          "output_type": "execute_result",
          "data": {
            "text/plain": [
              "0.7586206793785095"
            ]
          },
          "metadata": {},
          "execution_count": 56
        }
      ]
    },
    {
      "cell_type": "markdown",
      "source": [
        "Comparing the validation loss and training loss by visualizing it"
      ],
      "metadata": {
        "id": "ASC6kVssPWWg"
      }
    },
    {
      "cell_type": "code",
      "source": [
        "plt.plot(hist['loss'],label='training data')\n",
        "plt.plot(hist['val_loss'],label='validation_loss')\n",
        "plt.legend()\n",
        "plt.xlabel('no.of epochs')\n",
        "plt.ylabel('loss')"
      ],
      "metadata": {
        "colab": {
          "base_uri": "https://localhost:8080/",
          "height": 296
        },
        "id": "MWP5m-ziVzJZ",
        "outputId": "152ea1ee-404d-4adf-e6e3-85d20ae09b3a"
      },
      "execution_count": null,
      "outputs": [
        {
          "output_type": "execute_result",
          "data": {
            "text/plain": [
              "Text(0, 0.5, 'loss')"
            ]
          },
          "metadata": {},
          "execution_count": 57
        },
        {
          "output_type": "display_data",
          "data": {
            "text/plain": [
              "<Figure size 432x288 with 1 Axes>"
            ],
            "image/png": "[encoded data removed]"
          },
          "metadata": {
            "needs_background": "light"
          }
        }
      ]
    },
    {
      "cell_type": "markdown",
      "source": [
        "Comparing the validation accuracy and training accuracy by visualizing it"
      ],
      "metadata": {
        "id": "scxQ5AJaP3kC"
      }
    },
    {
      "cell_type": "code",
      "source": [
        "plt.plot(hist['accuracy'],label='training accuracy')\n",
        "plt.plot(hist['val_accuracy'],label='validation_accuracy')\n",
        "plt.legend()\n",
        "plt.xlabel('no.of epochs')\n",
        "plt.ylabel('accuracy')"
      ],
      "metadata": {
        "colab": {
          "base_uri": "https://localhost:8080/",
          "height": 296
        },
        "id": "avydoGkpbmVJ",
        "outputId": "b9fa65b2-8315-4d99-e047-de0d3b579e66"
      },
      "execution_count": null,
      "outputs": [
        {
          "output_type": "execute_result",
          "data": {
            "text/plain": [
              "Text(0, 0.5, 'accuracy')"
            ]
          },
          "metadata": {},
          "execution_count": 58
        },
        {
          "output_type": "display_data",
          "data": {
            "text/plain": [
              "<Figure size 432x288 with 1 Axes>"
            ],
            "image/png": "[encoded data removed]"
          },
          "metadata": {
            "needs_background": "light"
          }
        }
      ]
    },
    {
      "cell_type": "markdown",
      "source": [
        "Predicting the model"
      ],
      "metadata": {
        "id": "O5dKQ8PQP9kn"
      }
    },
    {
      "cell_type": "code",
      "source": [
        "y_pred=model.predict(X_test)\n",
        "y_pred"
      ],
      "metadata": {
        "colab": {
          "base_uri": "https://localhost:8080/"
        },
        "id": "C7T_XuVmbs2i",
        "outputId": "813d4024-aeb1-415b-f09d-ade28ec01e7e"
      },
      "execution_count": null,
      "outputs": [
        {
          "output_type": "execute_result",
          "data": {
            "text/plain": [
              "array([[0.0709292 ],\n",
              "       [0.08317181],\n",
              "       [0.15762544],\n",
              "       [0.0709292 ],\n",
              "       [0.40934289],\n",
              "       [0.02889067],\n",
              "       [0.0635238 ],\n",
              "       [0.18182084],\n",
              "       [0.180415  ],\n",
              "       [0.08441204],\n",
              "       [0.29610834],\n",
              "       [0.77914643],\n",
              "       [0.90725625],\n",
              "       [0.36129373],\n",
              "       [0.4044997 ],\n",
              "       [0.25253946],\n",
              "       [0.902601  ],\n",
              "       [0.11466062],\n",
              "       [0.21813777],\n",
              "       [0.2545148 ],\n",
              "       [0.286192  ],\n",
              "       [0.30432564],\n",
              "       [0.19271496],\n",
              "       [0.38066986],\n",
              "       [0.03358239],\n",
              "       [0.2658554 ],\n",
              "       [0.26950786],\n",
              "       [0.3036454 ],\n",
              "       [0.04092529],\n",
              "       [0.3110737 ],\n",
              "       [0.35448873],\n",
              "       [0.13036594],\n",
              "       [0.10510731],\n",
              "       [0.08121049],\n",
              "       [0.17218915],\n",
              "       [0.37982994],\n",
              "       [0.05849472],\n",
              "       [0.6683968 ],\n",
              "       [0.28966016],\n",
              "       [0.21606454],\n",
              "       [0.28049275],\n",
              "       [0.3108331 ],\n",
              "       [0.16571355],\n",
              "       [0.82031274],\n",
              "       [0.32317865],\n",
              "       [0.57199746],\n",
              "       [0.09639642],\n",
              "       [0.33413923],\n",
              "       [0.17611   ],\n",
              "       [0.53957397],\n",
              "       [0.26066658],\n",
              "       [0.05363929],\n",
              "       [0.33933705],\n",
              "       [0.12613264],\n",
              "       [0.5550573 ],\n",
              "       [0.490007  ],\n",
              "       [0.2329664 ],\n",
              "       [0.88577425]], dtype=float32)"
            ]
          },
          "metadata": {},
          "execution_count": 67
        }
      ]
    },
    {
      "cell_type": "markdown",
      "source": [
        "convert the probability values greater than 0.5 to 1 and less than 0.5 to 0"
      ],
      "metadata": {
        "id": "k4H6I-_RiyDr"
      }
    },
    {
      "cell_type": "code",
      "source": [
        "y_pred_classes=(y_pred>0.5).astype('int')\n",
        "y_pred_classes"
      ],
      "metadata": {
        "colab": {
          "base_uri": "https://localhost:8080/"
        },
        "id": "GOKJhOHPRJcm",
        "outputId": "25dc309e-a7ef-42c0-f05a-41cf4a18cd0d"
      },
      "execution_count": null,
      "outputs": [
        {
          "output_type": "execute_result",
          "data": {
            "text/plain": [
              "array([[0],\n",
              "       [0],\n",
              "       [0],\n",
              "       [0],\n",
              "       [0],\n",
              "       [0],\n",
              "       [0],\n",
              "       [0],\n",
              "       [0],\n",
              "       [0],\n",
              "       [0],\n",
              "       [1],\n",
              "       [1],\n",
              "       [0],\n",
              "       [0],\n",
              "       [0],\n",
              "       [1],\n",
              "       [0],\n",
              "       [0],\n",
              "       [0],\n",
              "       [0],\n",
              "       [0],\n",
              "       [0],\n",
              "       [0],\n",
              "       [0],\n",
              "       [0],\n",
              "       [0],\n",
              "       [0],\n",
              "       [0],\n",
              "       [0],\n",
              "       [0],\n",
              "       [0],\n",
              "       [0],\n",
              "       [0],\n",
              "       [0],\n",
              "       [0],\n",
              "       [0],\n",
              "       [1],\n",
              "       [0],\n",
              "       [0],\n",
              "       [0],\n",
              "       [0],\n",
              "       [0],\n",
              "       [1],\n",
              "       [0],\n",
              "       [1],\n",
              "       [0],\n",
              "       [0],\n",
              "       [0],\n",
              "       [1],\n",
              "       [0],\n",
              "       [0],\n",
              "       [0],\n",
              "       [0],\n",
              "       [1],\n",
              "       [0],\n",
              "       [0],\n",
              "       [1]])"
            ]
          },
          "metadata": {},
          "execution_count": 68
        }
      ]
    },
    {
      "cell_type": "code",
      "source": [
        "y_pred_classes_with_labels= ['reccurence event' if (item>0.5).astype('int') else 'non reccurence events' for item in y_pred]\n",
        "y_pred_classes_with_labels"
      ],
      "metadata": {
        "id": "UeSZ445-QvAO",
        "colab": {
          "base_uri": "https://localhost:8080/"
        },
        "outputId": "d0343667-41a5-456e-d04f-bb70b638c21f"
      },
      "execution_count": null,
      "outputs": [
        {
          "output_type": "execute_result",
          "data": {
            "text/plain": [
              "['non reccurence events',\n",
              " 'non reccurence events',\n",
              " 'non reccurence events',\n",
              " 'non reccurence events',\n",
              " 'non reccurence events',\n",
              " 'non reccurence events',\n",
              " 'non reccurence events',\n",
              " 'non reccurence events',\n",
              " 'non reccurence events',\n",
              " 'non reccurence events',\n",
              " 'non reccurence events',\n",
              " 'reccurence event',\n",
              " 'reccurence event',\n",
              " 'non reccurence events',\n",
              " 'non reccurence events',\n",
              " 'non reccurence events',\n",
              " 'reccurence event',\n",
              " 'non reccurence events',\n",
              " 'non reccurence events',\n",
              " 'non reccurence events',\n",
              " 'non reccurence events',\n",
              " 'non reccurence events',\n",
              " 'non reccurence events',\n",
              " 'non reccurence events',\n",
              " 'non reccurence events',\n",
              " 'non reccurence events',\n",
              " 'non reccurence events',\n",
              " 'non reccurence events',\n",
              " 'non reccurence events',\n",
              " 'non reccurence events',\n",
              " 'non reccurence events',\n",
              " 'non reccurence events',\n",
              " 'non reccurence events',\n",
              " 'non reccurence events',\n",
              " 'non reccurence events',\n",
              " 'non reccurence events',\n",
              " 'non reccurence events',\n",
              " 'reccurence event',\n",
              " 'non reccurence events',\n",
              " 'non reccurence events',\n",
              " 'non reccurence events',\n",
              " 'non reccurence events',\n",
              " 'non reccurence events',\n",
              " 'reccurence event',\n",
              " 'non reccurence events',\n",
              " 'reccurence event',\n",
              " 'non reccurence events',\n",
              " 'non reccurence events',\n",
              " 'non reccurence events',\n",
              " 'reccurence event',\n",
              " 'non reccurence events',\n",
              " 'non reccurence events',\n",
              " 'non reccurence events',\n",
              " 'non reccurence events',\n",
              " 'reccurence event',\n",
              " 'non reccurence events',\n",
              " 'non reccurence events',\n",
              " 'reccurence event']"
            ]
          },
          "metadata": {},
          "execution_count": 69
        }
      ]
    },
    {
      "cell_type": "markdown",
      "source": [
        "Classification Report"
      ],
      "metadata": {
        "id": "MWwVDnD-QRdX"
      }
    },
    {
      "cell_type": "code",
      "source": [
        "Classification_report=print(classification_report(y_test,y_pred_classes))"
      ],
      "metadata": {
        "colab": {
          "base_uri": "https://localhost:8080/"
        },
        "id": "3JTdj-PPcO0t",
        "outputId": "48a68774-2143-45de-ff68-f2d89e114910"
      },
      "execution_count": null,
      "outputs": [
        {
          "output_type": "stream",
          "name": "stdout",
          "text": [
            "              precision    recall  f1-score   support\n",
            "\n",
            "           0       0.80      0.91      0.85        43\n",
            "           1       0.56      0.33      0.42        15\n",
            "\n",
            "    accuracy                           0.76        58\n",
            "   macro avg       0.68      0.62      0.63        58\n",
            "weighted avg       0.73      0.76      0.74        58\n",
            "\n"
          ]
        }
      ]
    },
    {
      "cell_type": "markdown",
      "source": [
        "Confusion Matrix"
      ],
      "metadata": {
        "id": "GVg97csiQUzc"
      }
    },
    {
      "cell_type": "code",
      "source": [
        "Confusion_matrix=print(confusion_matrix(y_test,y_pred_classes))"
      ],
      "metadata": {
        "colab": {
          "base_uri": "https://localhost:8080/"
        },
        "id": "iiIbdH2kcZe0",
        "outputId": "a1426707-a799-40e1-f55e-caa70d86d36c"
      },
      "execution_count": null,
      "outputs": [
        {
          "output_type": "stream",
          "name": "stdout",
          "text": [
            "[[39  4]\n",
            " [10  5]]\n"
          ]
        }
      ]
    },
    {
      "cell_type": "markdown",
      "source": [
        "predicting model by providing random data"
      ],
      "metadata": {
        "id": "nNLCB5LUQadb"
      }
    },
    {
      "cell_type": "code",
      "source": [
        "y_pred[57]"
      ],
      "metadata": {
        "colab": {
          "base_uri": "https://localhost:8080/"
        },
        "id": "LbJS8pEddDA6",
        "outputId": "82a7ad1a-816e-4922-9fc8-7eecb473797e"
      },
      "execution_count": null,
      "outputs": [
        {
          "output_type": "execute_result",
          "data": {
            "text/plain": [
              "array([0.88577425], dtype=float32)"
            ]
          },
          "metadata": {},
          "execution_count": 72
        }
      ]
    },
    {
      "cell_type": "code",
      "source": [
        "y_pred_classes[57]"
      ],
      "metadata": {
        "colab": {
          "base_uri": "https://localhost:8080/"
        },
        "id": "OjHj2KPNdTW6",
        "outputId": "157bfb22-2bf5-481a-d617-8e594d61e5a8"
      },
      "execution_count": null,
      "outputs": [
        {
          "output_type": "execute_result",
          "data": {
            "text/plain": [
              "array([1])"
            ]
          },
          "metadata": {},
          "execution_count": 73
        }
      ]
    }
  ]
}